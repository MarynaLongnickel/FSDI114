{
 "cells": [
  {
   "cell_type": "markdown",
   "id": "e7c3e4be",
   "metadata": {},
   "source": [
    "# Class 2 - More problems, Big O notation, and Intro to DSA"
   ]
  },
  {
   "cell_type": "code",
   "execution_count": 2,
   "id": "138b7c42",
   "metadata": {},
   "outputs": [],
   "source": [
    "def empty_function():\n",
    "    variable = 10\n",
    "    total = variable - 5\n",
    "    # Does not return or print anything\n",
    "\n",
    "def void_functions_with_parameters(x, y):\n",
    "    total = x\n",
    "    print(total - y)   # prints the result but does not return it\n",
    "\n",
    "def function_with_return():\n",
    "    variable = 10\n",
    "    total = variable - 5\n",
    "    return total       # returns the value (5 in this case)\n",
    "\n",
    "def function_with_return_and_parameters(x, y):\n",
    "    return x - y       # returns the difference between x and y"
   ]
  },
  {
   "cell_type": "markdown",
   "id": "71447250",
   "metadata": {},
   "source": [
    "# Problem 1\n",
    "\n",
    "### Anagram Check\n",
    "\n",
    "Create a function that takes two strings as parameters and returns True if they are anagrams or each other, False otherwise.\n",
    "\n",
    "Create a function that takes two strings as parameters and returns True if they are anagrams of each other, False otherwise.\n",
    "\n",
    "Examples:\n",
    "1. heart and earth\n",
    "2. scar and cars\n",
    "3. star and rats\n",
    "etc\n",
    "\n",
    "### Criteria\n",
    "Two strings are anagrams of each other if and only if all the criteria below are met:\n",
    "> 1. *They must use all the same characters*\n",
    "> 2. *They must be of exactly the same length (in characters)*\n"
   ]
  },
  {
   "cell_type": "code",
   "execution_count": null,
   "id": "87dc3331",
   "metadata": {},
   "outputs": [],
   "source": [
    "def are_anagrams(s1, s2):\n",
    "    s1 = s1.replace(\" \", \"\").lower()\n",
    "    s2 = s2.replace(\" \", \"\").lower()\n",
    "    \n",
    "    return sorted(s1) == sorted(s1)\n"
   ]
  },
  {
   "cell_type": "code",
   "execution_count": null,
   "id": "a3f34be7",
   "metadata": {},
   "outputs": [],
   "source": [
    "def check_anagrams(w1, w2):\n",
    "    w1 = w1.replace(\" \", \"\").lower()\n",
    "    w2 = w2.replace(\" \", \"\").lower()\n",
    "    dict1 = {}\n",
    "    dict2 = {}\n",
    "\n",
    "    if len(w1) == len(w2):\n",
    "        for letter in w1:\n",
    "            if dict1.get(letter) == None:\n",
    "                dict1[letter] = 1\n",
    "            else:\n",
    "                dict1[letter] += 1\n",
    "\n",
    "        for letter in w2:\n",
    "            if dict2.get(letter) == None:\n",
    "                dict2[letter] = 1\n",
    "            else:\n",
    "                dict2[letter] += 1\n",
    "\n",
    "        return dict1 == dict2\n",
    "    else:\n",
    "        return False\n",
    "\n"
   ]
  },
  {
   "cell_type": "code",
   "execution_count": null,
   "id": "ed65685b",
   "metadata": {},
   "outputs": [],
   "source": []
  }
 ],
 "metadata": {
  "kernelspec": {
   "display_name": "Python 3",
   "language": "python",
   "name": "python3"
  },
  "language_info": {
   "codemirror_mode": {
    "name": "ipython",
    "version": 3
   },
   "file_extension": ".py",
   "mimetype": "text/x-python",
   "name": "python",
   "nbconvert_exporter": "python",
   "pygments_lexer": "ipython3",
   "version": "3.13.5"
  }
 },
 "nbformat": 4,
 "nbformat_minor": 5
}
