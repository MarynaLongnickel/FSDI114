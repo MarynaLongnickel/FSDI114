{
 "cells": [
  {
   "cell_type": "markdown",
   "id": "37ddb5ea",
   "metadata": {},
   "source": [
    "# FSDI 114 - Class 1\n",
    "\n",
    "## Subtitle\n",
    "\n",
    "### Another type of heading\n",
    "\n",
    "#### just add simple text"
   ]
  },
  {
   "cell_type": "code",
   "execution_count": 1,
   "id": "a1d60156",
   "metadata": {},
   "outputs": [
    {
     "name": "stdout",
     "output_type": "stream",
     "text": [
      "Hello World!\n",
      "21\n"
     ]
    }
   ],
   "source": [
    "print(\"Hello World!\")\n",
    "\n",
    "x = 10\n",
    "y = 11\n",
    "\n",
    "print(x + y)"
   ]
  },
  {
   "cell_type": "markdown",
   "id": "fd26dc12",
   "metadata": {},
   "source": [
    "# AAA Approach (Assessment, Assembly, Action)\n",
    "\n",
    "– *Assessment:* We want to ask meaningful questions with the purpose of clarifying incorrect assumptions, edge cases we might \n",
    "  have missed and specific criteria we do not know up front.\n",
    "– *Assembly:* We want to design a solution by definind data structures, selecting or defining an algorithm and trying to solve \n",
    "  the problem as optimally as possible.\n",
    "– *Action:* code.\n"
   ]
  },
  {
   "cell_type": "markdown",
   "id": "23823464",
   "metadata": {},
   "source": [
    "# Problem 1\n",
    "\n",
    "## Find the total of numbers from a collection of numbers that divided by 2 the module is 0\n",
    "\n",
    "Examples:\n",
    "1. Given [3,4,10,15,999,2] Then the output should be: total = 3\n",
    "2. Given [2,4,6,10,3.7] Then the output should be: total = 4\n",
    "\n",
    "### Criteria\n",
    "1. Create a function that receives a collection and return an integer with the total\n",
    "\n",
    "### Hint\n",
    "- '%' is the arithmetic operand to get the module from a division\n",
    "- 2 % 2 = 0\n",
    "\n",
    "The collection of numbers is: numbers = [3,5,27,20,6,3.5,60]\n"
   ]
  },
  {
   "cell_type": "code",
   "execution_count": null,
   "id": "5c05c280",
   "metadata": {},
   "outputs": [
    {
     "name": "stdout",
     "output_type": "stream",
     "text": [
      "Total = 3\n"
     ]
    }
   ],
   "source": [
    "def is_even(nums):\n",
    "    total = 0\n",
    "    for n in nums:\n",
    "        if n % 2 == 0:\n",
    "            total += 1\n",
    "    return total\n",
    "\n",
    "nums = [3, 5, 27, 20, 6, 3.5, 60]\n",
    "print(\"Total =\", is_even(nums))"
   ]
  }
 ],
 "metadata": {
  "kernelspec": {
   "display_name": "Python 3",
   "language": "python",
   "name": "python3"
  },
  "language_info": {
   "codemirror_mode": {
    "name": "ipython",
    "version": 3
   },
   "file_extension": ".py",
   "mimetype": "text/x-python",
   "name": "python",
   "nbconvert_exporter": "python",
   "pygments_lexer": "ipython3",
   "version": "3.13.5"
  }
 },
 "nbformat": 4,
 "nbformat_minor": 5
}
